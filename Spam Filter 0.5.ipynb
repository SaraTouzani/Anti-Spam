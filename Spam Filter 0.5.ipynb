{
 "cells": [
  {
   "cell_type": "markdown",
   "metadata": {
    "collapsed": true
   },
   "source": [
    "Spam Filter 0.1"
   ]
  },
  {
   "cell_type": "markdown",
   "metadata": {},
   "source": [
    "Imports"
   ]
  },
  {
   "cell_type": "code",
   "execution_count": 7,
   "metadata": {
    "collapsed": true
   },
   "outputs": [],
   "source": [
    "import nltk\n",
    "nltk.data.path.append('/home/toutou/nltk_data/')\n",
    "import os\n",
    "import codecs\n",
    "import re\n",
    "from nltk import sent_tokenize, word_tokenize\n",
    "from nltk.stem import PorterStemmer\n",
    "from nltk.corpus import stopwords\n",
    "from tkinter import *\n",
    "import pandas as pd\n",
    "import numpy as np"
   ]
  },
  {
   "cell_type": "markdown",
   "metadata": {},
   "source": [
    "Variabls"
   ]
  },
  {
   "cell_type": "code",
   "execution_count": 8,
   "metadata": {},
   "outputs": [],
   "source": [
    "#Global\n",
    "language = \"english\"\n",
    "data = pd.read_csv(\"test.csv\")\n",
    "#dataHeader = data[[\"type\",\"header\"]]\n",
    "#dataHeader.columns = [\"type\",\"data\"]\n",
    "#dataBody = data[[\"type\",\"body\"]]\n",
    "#dataBody.columns = [\"type\",\"data\"]\n",
    "#data['text'] = data[['header','body']].apply(lambda x: ''.join(x), axis=1)\n",
    "dataText = data[['type','text']]\n",
    "#Bayesian Model Raw\n",
    "spamWordCount = {}\n",
    "spamWordTotal = 0\n",
    "hamWordCount = {}\n",
    "hamWordTotal = 0\n",
    "\n",
    "#Bayesian Model Subject\n",
    "subspamWordCount = {}\n",
    "subspamWordTotal = 0\n",
    "subhamWordCount = {}\n",
    "subhamWordTotal = 0\n",
    "\n",
    "#UI\n",
    "root = Tk()\n",
    "emailLabel = Label(root, text=\"Sender :\")\n",
    "emailVar = StringVar()\n",
    "emailEntry = Entry(root, textvariable=emailVar)\n",
    "subjectLabel = Label(root, text=\"Subject :\")\n",
    "subjectVar = StringVar()\n",
    "subjectEntry = Entry(root, textvariable=subjectVar)\n",
    "contentLabel = Label(root, text=\"Content :\")\n",
    "contentText = Text(root)\n",
    "\n",
    "\n",
    "#Text Processing\n",
    "stemmer = PorterStemmer()\n"
   ]
  },
  {
   "cell_type": "markdown",
   "metadata": {},
   "source": [
    "Functions"
   ]
  },
  {
   "cell_type": "code",
   "execution_count": 7,
   "metadata": {
    "collapsed": true
   },
   "outputs": [],
   "source": [
    "#Bayesian Train function\n",
    "def Train(email, spam) :\n",
    "    if spam :\n",
    "        for word in email :\n",
    "            spamWordCount[word] = spamWordCount.get(word, 0) + 1 \n",
    "            spamWordTotal += 1\n",
    "    else :\n",
    "        for word in email :\n",
    "            hamWordCount[word] = hamWordCount.get(word, 0) + 1\n",
    "            hamWordTotal += 1\n",
    "def subTrain(header, spam):\n",
    "    if spam :\n",
    "        for word in header :\n",
    "            subspamWordCount[word] = spamWordCount.get(word, 0) + 1 \n",
    "            subspamWordTotal += 1\n",
    "    else :\n",
    "        for word in header :\n",
    "            subhamWordCount[word] = hamWordCount.get(word, 0) + 1\n",
    "            subhamWordTotal += 1"
   ]
  },
  {
   "cell_type": "code",
   "execution_count": 29,
   "metadata": {
    "collapsed": true
   },
   "outputs": [],
   "source": [
    "#Text Processing\n",
    "def preprocess(raw) :\n",
    "    wordlist = word_tokenize(raw)\n",
    "    returnlist = []\n",
    "    for word in wordlist :\n",
    "        if (word not in stopwords.words(\"english\")) :\n",
    "            if (word[0] in (('1','2','3','4','5','6','7','8','9','0','&','(','-','_','ç','é','à',')','=','+','°','~','#'))) :\n",
    "                returnlist.append('#')\n",
    "            else :\n",
    "                returnlist.append(stemmer.stem(word))\n",
    "    return returnlist"
   ]
  },
  {
   "cell_type": "code",
   "execution_count": 40,
   "metadata": {
    "collapsed": true
   },
   "outputs": [],
   "source": [
    "#Import CSV\n",
    "def importCSV(name) :\n",
    "    data=pandas.read_csv(name,names=['type','header','body'])\n",
    "    data['text'] = data[['header','body']].apply(lambda x: ''.join(x), axis=1)\n",
    "    dataHeader = data[['type','header']]\n",
    "    dataHeader.columns = ['type','data']\n",
    "    dataBody = data[['type','body']]\n",
    "    dataBody.Header.colmuns = ['type','text']\n",
    "    dataText = data[['type','text']]"
   ]
  },
  {
   "cell_type": "code",
   "execution_count": 30,
   "metadata": {},
   "outputs": [
    {
     "data": {
      "text/plain": [
       "['kill', 'giant', '#', 'red', 'mongolian', 'cobra']"
      ]
     },
     "execution_count": 30,
     "metadata": {},
     "output_type": "execute_result"
    }
   ],
   "source": [
    "def generateModel(algo) :\n",
    "    "
   ]
  },
  {
   "cell_type": "code",
   "execution_count": 1,
   "metadata": {},
   "outputs": [],
   "source": [
    "from sklearn.feature_extraction.text import CountVectorizer\n",
    "count_vectorizer = CountVectorizer()\n",
    "counts = count_vectorizer.fit_transform(dataText['text'].values)"
   ]
  },
  {
   "cell_type": "code",
   "execution_count": 6,
   "metadata": {},
   "outputs": [],
   "source": [
    "from sklearn.naive_bayes import MultinomialNB\n",
    "\n",
    "classifier = MultinomialNB()\n",
    "targets = dataText['type'].values\n",
    "#classifier.fit(counts, targets)"
   ]
  },
  {
   "cell_type": "code",
   "execution_count": 76,
   "metadata": {},
   "outputs": [
    {
     "data": {
      "text/plain": [
       "0        reformolarprezado senhor a tomamos a liberdade...\n",
       "1        very important messagefrom johnson werner bill...\n",
       "2        principle vlcodd n vlaagrra claal s somma alli...\n",
       "3        vicodin and other inexpnsive medlcations no pr...\n",
       "4        hidear sir madam i am engr munachim eze chairm...\n",
       "5        re time to reorder cia lishi again we now have...\n",
       "6        is the time right for this smallcap executive ...\n",
       "7        mr cole cuts your monthly paymentshello i sent...\n",
       "8        stox to watchinvestor alert newsletter july is...\n",
       "9        win a dollar wal mart gift card unable to see ...\n",
       "10        refinance debt consolidation as low as g  day...\n",
       "11                                say goodbye to painunsub\n",
       "12       eg em ca xanax and lorazepam also known as ati...\n",
       "13       application approval hello we sent you an emai...\n",
       "14       are shares of this issue poised for a run walt...\n",
       "15       new product cialis soft tabs hi we have a new ...\n",
       "16       bridgette just open itsecrets revealed how to ...\n",
       "17       secure your pc onlinegood day we are now embar...\n",
       "18       when was the last time you spoilt yourself how...\n",
       "19       power pick with the steam to soar us oi and ga...\n",
       "20       brave new wor dmake your pc faster http earthm...\n",
       "21       hilary just open itsimply the beststarts worki...\n",
       "22       internet connection speed may not be optimized...\n",
       "23       from mr daniel mutadei truely solicite your as...\n",
       "24       cheap online pills herechromate obsessive cons...\n",
       "25       new york post ezine great article about pharma...\n",
       "26       your ref your ref reply to mikevern financier ...\n",
       "27       finest online pills hereaffiance eldon pall so...\n",
       "28       online pharmakpwould you want cheap pain kille...\n",
       "29       millions in govt grants get some bait excelled...\n",
       "                               ...                        \n",
       "33686    wharton business plan competitionhi anne thank...\n",
       "33687    model for insurance against cruel oil down sid...\n",
       "33688    wti modelstinson this is the latest wti model ...\n",
       "33689    re ming sitvince thanks for the update if ther...\n",
       "33690    interview with the enron research groupgood mo...\n",
       "33691    re your maildear vince the following message i...\n",
       "33692    re extreme value theory applied to weathetdear...\n",
       "33693    understanding risk and return of an insurance ...\n",
       "33694    re further actions on anjam  s departureanjam ...\n",
       "33695    daily natural gas price outlookvince can you b...\n",
       "33696    open enrollment open enrollment is going on no...\n",
       "33697    ena fileplanvince fyi forwarded by shirley cre...\n",
       "33698    thank yougraham pl austin tx november dear mr ...\n",
       "33699    initial collection of research material for yo...\n",
       "33700    re mathworksmolly i met lou in the building lo...\n",
       "33701    enron wefa luncheon may martin vince and lance...\n",
       "33702    in confidence prc summaryhi vince following ou...\n",
       "33703    re anjam  s term sheettara i am forwarding it ...\n",
       "33704    re update meteorologist searchgreat work mike ...\n",
       "33705    interview schedule for aram sogomonianplease f...\n",
       "33706    re mid year prcsoma yes no problem vince soma ...\n",
       "33707    a message from joe suttontoday i announce my d...\n",
       "33708    re nick bambossounds great let me know how i c...\n",
       "33709    re risk bostonoliver i apologize for the delay...\n",
       "33710    reactions log in passwordhttp www reactionsnet...\n",
       "33711    marketpoint business plan summaryvince thanks ...\n",
       "33712    summer internwe can hire the person as a summe...\n",
       "33713    candidate decisionsvince they are already aski...\n",
       "33714    re asian option for pavelour convention is who...\n",
       "33715    request submitted access request for tom barkl...\n",
       "Name: text, Length: 33716, dtype: object"
      ]
     },
     "execution_count": 76,
     "metadata": {},
     "output_type": "execute_result"
    }
   ],
   "source": [
    "dataText['text']"
   ]
  },
  {
   "cell_type": "code",
   "execution_count": 74,
   "metadata": {},
   "outputs": [
    {
     "data": {
      "text/html": [
       "<div>\n",
       "<style>\n",
       "    .dataframe thead tr:only-child th {\n",
       "        text-align: right;\n",
       "    }\n",
       "\n",
       "    .dataframe thead th {\n",
       "        text-align: left;\n",
       "    }\n",
       "\n",
       "    .dataframe tbody tr th {\n",
       "        vertical-align: top;\n",
       "    }\n",
       "</style>\n",
       "<table border=\"1\" class=\"dataframe\">\n",
       "  <thead>\n",
       "    <tr style=\"text-align: right;\">\n",
       "      <th></th>\n",
       "      <th>type</th>\n",
       "      <th>text</th>\n",
       "    </tr>\n",
       "  </thead>\n",
       "  <tbody>\n",
       "    <tr>\n",
       "      <th>count</th>\n",
       "      <td>33426</td>\n",
       "      <td>16852</td>\n",
       "    </tr>\n",
       "    <tr>\n",
       "      <th>unique</th>\n",
       "      <td>25652</td>\n",
       "      <td>13835</td>\n",
       "    </tr>\n",
       "    <tr>\n",
       "      <th>top</th>\n",
       "      <td>start date hourahead hour start date hourahead...</td>\n",
       "      <td>click here to be removed</td>\n",
       "    </tr>\n",
       "    <tr>\n",
       "      <th>freq</th>\n",
       "      <td>449</td>\n",
       "      <td>66</td>\n",
       "    </tr>\n",
       "  </tbody>\n",
       "</table>\n",
       "</div>"
      ],
      "text/plain": [
       "                                                     type  \\\n",
       "count                                               33426   \n",
       "unique                                              25652   \n",
       "top     start date hourahead hour start date hourahead...   \n",
       "freq                                                  449   \n",
       "\n",
       "                             text  \n",
       "count                       16852  \n",
       "unique                      13835  \n",
       "top     click here to be removed   \n",
       "freq                           66  "
      ]
     },
     "execution_count": 74,
     "metadata": {},
     "output_type": "execute_result"
    }
   ],
   "source": [
    "data = pd.read_csv(\"test.csv\")\n",
    "data.describe()"
   ]
  }
 ],
 "metadata": {
  "kernelspec": {
   "display_name": "Python 3",
   "language": "python",
   "name": "python3"
  },
  "language_info": {
   "codemirror_mode": {
    "name": "ipython",
    "version": 3
   },
   "file_extension": ".py",
   "mimetype": "text/x-python",
   "name": "python",
   "nbconvert_exporter": "python",
   "pygments_lexer": "ipython3",
   "version": "3.6.1"
  }
 },
 "nbformat": 4,
 "nbformat_minor": 2
}
